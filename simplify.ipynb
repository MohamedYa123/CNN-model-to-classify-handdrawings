{
 "cells": [
  {
   "cell_type": "code",
   "execution_count": 1,
   "metadata": {},
   "outputs": [],
   "source": [
    "import tensorflow as tf\n",
    "\n",
    "from sklearn.model_selection import train_test_split\n",
    "from sklearn.preprocessing import MinMaxScaler\n",
    "\n",
    "import numpy as np\n",
    "\n",
    "from tensorflow.keras.callbacks import ModelCheckpoint\n",
    "import matplotlib.pyplot as plt\n",
    "import os\n",
    "from os import walk\n",
    "import random as rd\n",
    "import pickle"
   ]
  },
  {
   "cell_type": "code",
   "execution_count": 4,
   "metadata": {},
   "outputs": [
    {
     "name": "stdout",
     "output_type": "stream",
     "text": [
      "0 full_numpy_bitmap_airplane.npy\n",
      "0.2\n",
      "1 full_numpy_bitmap_alarm clock.npy\n",
      "2 full_numpy_bitmap_ambulance.npy\n",
      "3 full_numpy_bitmap_anvil.npy\n",
      "4 full_numpy_bitmap_axe.npy\n",
      "5 full_numpy_bitmap_banana.npy\n",
      "6 full_numpy_bitmap_basketball.npy\n",
      "7 full_numpy_bitmap_bed.npy\n",
      "8 full_numpy_bitmap_bicycle.npy\n",
      "9 full_numpy_bitmap_The Eiffel Tower.npy\n"
     ]
    }
   ],
   "source": [
    "#load data\n",
    "mypath='My Data/trainning/org'\n",
    "f = []\n",
    "for (dirpath, dirnames, filenames) in walk(mypath):\n",
    "    f.extend(filenames)\n",
    "    break\n",
    "\n",
    "outp=[]\n",
    "a=[]\n",
    "tlen=len(f)\n",
    "i=0\n",
    "dtall=np.zeros(1)\n",
    "outputfortraining=np.zeros(1)\n",
    "for a in f[:]:\n",
    "    z=a\n",
    "    print(i,a)\n",
    "    outp2=a.replace('_',' ').replace('full numpy bitmap','').split('.')[0]\n",
    "    a=mypath+'/'+a\n",
    "    dt=np.load(a)\n",
    "    #otp=np.zeros([ len(dt),tlen],dtype='float') \n",
    "    otp=np.zeros([ len(dt),1],dtype='float') \n",
    "    #print(len(otp[0]))\n",
    "    otp[:, 0] = i\n",
    "    hhj=0.85\n",
    "    if z=='full_numpy_bitmap_airplane.npy':\n",
    "        hhj=0.2\n",
    "        print(hhj)\n",
    "    X_train, X_test, y_train, y_test = train_test_split(dt, otp, test_size=hhj, random_state=42)\n",
    "    if (len(outp)==0):\n",
    "        dtall=dt\n",
    "        outputfortraining=otp\n",
    "    else:\n",
    "        #dtall=np.concatenate((dtall,dt),axis=0)\n",
    "        #outputfortraining=np.concatenate((outputfortraining,otp),axis=0)\n",
    "        del otp\n",
    "        del dt\n",
    "    np.save('My Data'+'/simplified/'+outp2+'.npy',X_train)\n",
    "    #del dt\n",
    "    #del otp\n",
    "    del X_train\n",
    "    del X_test\n",
    "    del y_train\n",
    "    del y_test\n",
    "    #outp.append(outp2)\n",
    "    i+=1\n",
    "#dtEifel=np.load('full_numpy_bitmap_The Eiffel Tower.npy')\n",
    "#dtGreatWall=np.load('full_numpy_bitmap_The Great Wall of China.npy')\n",
    "#dtMonalisa=np.load('full_numpy_bitmap_The Mona Lisa.npy')\n",
    "#dtall=np.concatenate((dtEifel,dtGreatWall,dtMonalisa),axis=0)\n",
    "#print(outp)\n",
    "#Outputs=np.array(outputfortraining)\n",
    "#del outputfortraining"
   ]
  },
  {
   "cell_type": "code",
   "execution_count": null,
   "metadata": {},
   "outputs": [],
   "source": []
  }
 ],
 "metadata": {
  "kernelspec": {
   "display_name": "Python 3",
   "language": "python",
   "name": "python3"
  },
  "language_info": {
   "codemirror_mode": {
    "name": "ipython",
    "version": 3
   },
   "file_extension": ".py",
   "mimetype": "text/x-python",
   "name": "python",
   "nbconvert_exporter": "python",
   "pygments_lexer": "ipython3",
   "version": "3.11.0"
  }
 },
 "nbformat": 4,
 "nbformat_minor": 2
}
